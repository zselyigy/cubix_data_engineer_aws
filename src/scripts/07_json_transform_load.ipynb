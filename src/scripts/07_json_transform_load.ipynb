{
 "cells": [
  {
   "cell_type": "code",
   "execution_count": 1,
   "metadata": {},
   "outputs": [],
   "source": [
    "# some exploratory data analysis\n",
    "from datetime import datetime\n",
    "from dateutil.relativedelta import relativedelta\n",
    "import os\n",
    "\n",
    "import pandas as pd\n",
    "# set pandas to show 100 the columns\n",
    "pd.set_option('display.max_columns', 100)\n",
    "\n",
    "import requests\n"
   ]
  },
  {
   "cell_type": "code",
   "execution_count": null,
   "metadata": {},
   "outputs": [],
   "source": [
    "    \"\"\"\n",
    "    1. get the data from S3\n",
    "    2. transform the weather data (weather_data)\n",
    "    3. transform the taxi data (taxi_trips)\n",
    "    4. update payment type master table (payment_type_master)\n",
    "    5. update company master table (company_master)\n",
    "    6. update the ids in the taxi_trips using the latest master tables\n",
    "    7. upload weather data fo S3 (weather_data)\n",
    "    8. upload taxi data fo S3 (taxi_trips)\n",
    "    9. upload the new payment and company master tables (payment_type_master, company_master)\n",
    "    \"\"\""
   ]
  }
 ],
 "metadata": {
  "kernelspec": {
   "display_name": "venv",
   "language": "python",
   "name": "python3"
  },
  "language_info": {
   "codemirror_mode": {
    "name": "ipython",
    "version": 3
   },
   "file_extension": ".py",
   "mimetype": "text/x-python",
   "name": "python",
   "nbconvert_exporter": "python",
   "pygments_lexer": "ipython3",
   "version": "3.11.6"
  }
 },
 "nbformat": 4,
 "nbformat_minor": 2
}
