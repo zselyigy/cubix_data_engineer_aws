{
 "cells": [
  {
   "cell_type": "code",
   "execution_count": 7,
   "metadata": {},
   "outputs": [],
   "source": [
    "# some exploratory data analysis\n",
    "from datetime import datetime\n",
    "from dateutil.relativedelta import relativedelta\n",
    "import os\n",
    "\n",
    "import pandas as pd\n",
    "# set pandas to show 100 the columns\n",
    "pd.set_option('display.max_columns', 100)\n",
    "\n",
    "import requests\n"
   ]
  },
  {
   "cell_type": "code",
   "execution_count": null,
   "metadata": {},
   "outputs": [],
   "source": [
    "    \"\"\"\n",
    "    1. get the data from S3\n",
    "    2. transform the weather data (weather_data)\n",
    "    3. transform the taxi data (taxi_trips)\n",
    "    4. update payment type master table (payment_type_master)\n",
    "    5. update company master table (company_master)\n",
    "    6. update the ids in the taxi_trips using the latest master tables\n",
    "    7. upload weather data fo S3 (weather_data)\n",
    "    8. upload taxi data fo S3 (taxi_trips)\n",
    "    9. upload the new payment and company master tables (payment_type_master, company_master)\n",
    "    \"\"\""
   ]
  },
  {
   "cell_type": "markdown",
   "metadata": {},
   "source": [
    "#### 3. transform the taxi data (taxi_trips)"
   ]
  },
  {
   "cell_type": "code",
   "execution_count": 8,
   "metadata": {},
   "outputs": [],
   "source": [
    "# get the taxi data of the last full month (T-1 months') data\n",
    "current_datetime = datetime.now()    # current date\n",
    "# get the data two months before as a formatted string\n",
    "formatted_datetime = (current_datetime - relativedelta(months=2)).strftime('%Y-%m-%d')\n",
    "\n",
    "url = f'https://data.cityofchicago.org/resource/wrvz-psew.json?$where=trip_start_timestamp >= \"{formatted_datetime}T00:00:00\" AND trip_start_timestamp <= \"{formatted_datetime}T23:59:59\"&$limit=30000'\n",
    "\n",
    "# the os.environ.get looks for the specified variable in the .env file of the root\n",
    "# folder of the project\n",
    "headers = {'X-App-Token': os.environ.get(\"CHICHAGO_API_TOKEN\")}\n",
    "\n",
    "# response = requests.get(url, headers)    # in case an error comes leave the headers parameter\n",
    "response = requests.get(url)\n",
    "\n",
    "data = response.json()\n"
   ]
  },
  {
   "cell_type": "code",
   "execution_count": 9,
   "metadata": {},
   "outputs": [],
   "source": [
    "# create a dataframe from the taxi trip data\n",
    "taxi_trips = pd.DataFrame(data)"
   ]
  },
  {
   "cell_type": "code",
   "execution_count": 11,
   "metadata": {},
   "outputs": [
    {
     "data": {
      "text/plain": [
       "Index(['trip_id', 'taxi_id', 'trip_start_timestamp', 'trip_end_timestamp',\n",
       "       'trip_seconds', 'trip_miles', 'pickup_census_tract',\n",
       "       'dropoff_census_tract', 'pickup_community_area',\n",
       "       'dropoff_community_area', 'fare', 'tips', 'tolls', 'extras',\n",
       "       'trip_total', 'payment_type', 'company', 'pickup_centroid_latitude',\n",
       "       'pickup_centroid_longitude', 'pickup_centroid_location',\n",
       "       'dropoff_centroid_latitude', 'dropoff_centroid_longitude',\n",
       "       'dropoff_centroid_location'],\n",
       "      dtype='object')"
      ]
     },
     "execution_count": 11,
     "metadata": {},
     "output_type": "execute_result"
    }
   ],
   "source": [
    "taxi_trips.columns"
   ]
  },
  {
   "cell_type": "code",
   "execution_count": 12,
   "metadata": {},
   "outputs": [],
   "source": [
    "# the order is important, because these two columns contain lots of NaN values\n",
    "# first drop them, then the rows having NaN in the other columns only\n",
    "taxi_trips.drop(['pickup_census_tract', 'dropoff_census_tract'], axis=1, inplace=True)\n",
    "taxi_trips.drop(['pickup_centroid_location', 'dropoff_centroid_location'], axis=1, inplace=True)\n",
    "taxi_trips.dropna(inplace=True)\n",
    "taxi_trips.rename(columns={\"pickup_community_area\": \"pickup_community_area_id\",\n",
    "                           \"dropoff_community_area\": \"dropoff_community_area_id\"},\n",
    "                           inplace=True)\n",
    "taxi_trips['trip_start_timestamp'] = pd.to_datetime(taxi_trips['trip_start_timestamp']).dt.floor('H')\n",
    "#taxi_trips['datetime_for_weather'] = taxi_trips['trip_start_timestamp'].dt.floor('H')"
   ]
  },
  {
   "cell_type": "markdown",
   "metadata": {},
   "source": [
    "#### taxi_trips transformations function"
   ]
  },
  {
   "cell_type": "code",
   "execution_count": 16,
   "metadata": {},
   "outputs": [],
   "source": [
    "def taxi_trips_transformations(taxi_trips: pd.DataFrame) -> pd.DataFrame:\n",
    "    \"\"\" Perform transformation with the taxi data\n",
    "\n",
    "    Args:\n",
    "        taxi_trips (pd.DataFrame): \n",
    "            The DataFrame holding the daily taxi trips.\n",
    "\n",
    "    Returns:\n",
    "        pd.DataFrame:\n",
    "            The cleaned, DataFrame holding the daily taxi trips.\n",
    "    \"\"\"\n",
    "    # the order is important, because these two columns contain lots of NaN values\n",
    "    # first drop them, then the rows having NaN in the other columns only\n",
    "    taxi_trips.drop(['pickup_census_tract','dropoff_census_tract',\n",
    "                     'pickup_centroid_location', 'dropoff_centroid_location'],\n",
    "                    axis=1, inplace=True)\n",
    "    taxi_trips.dropna(inplace=True)\n",
    "    taxi_trips.rename(columns={\"pickup_community_area\": \"pickup_community_area_id\",\n",
    "                            \"dropoff_community_area\": \"dropoff_community_area_id\"},\n",
    "                            inplace=True)\n",
    "    taxi_trips['trip_start_timestamp'] = pd.to_datetime(taxi_trips['trip_start_timestamp']).dt.floor('H')"
   ]
  }
 ],
 "metadata": {
  "kernelspec": {
   "display_name": "venv",
   "language": "python",
   "name": "python3"
  },
  "language_info": {
   "codemirror_mode": {
    "name": "ipython",
    "version": 3
   },
   "file_extension": ".py",
   "mimetype": "text/x-python",
   "name": "python",
   "nbconvert_exporter": "python",
   "pygments_lexer": "ipython3",
   "version": "3.11.6"
  }
 },
 "nbformat": 4,
 "nbformat_minor": 2
}
