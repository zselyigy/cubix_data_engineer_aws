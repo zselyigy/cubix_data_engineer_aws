{
 "cells": [
  {
   "cell_type": "code",
   "execution_count": 1,
   "metadata": {},
   "outputs": [],
   "source": [
    "from bs4 import BeautifulSoup    # library for parsing HTML and XML document\n",
    "import pandas as pd\n",
    "import requests                  # an HTTP client library \n",
    "from icecream import ic\n",
    "\n",
    "# load the web page by an http get request\n",
    "response = requests.get(url= 'https://en.wikipedia.org/wiki/Community_areas_in_Chicago')"
   ]
  },
  {
   "cell_type": "code",
   "execution_count": 4,
   "metadata": {},
   "outputs": [
    {
     "name": "stdout",
     "output_type": "stream",
     "text": [
      "<class 'pandas.core.frame.DataFrame'>\n",
      "RangeIndex: 77 entries, 0 to 76\n",
      "Data columns (total 2 columns):\n",
      " #   Column          Non-Null Count  Dtype \n",
      "---  ------          --------------  ----- \n",
      " 0   area_code       77 non-null     int32 \n",
      " 1   community_name  77 non-null     object\n",
      "dtypes: int32(1), object(1)\n",
      "memory usage: 1.0+ KB\n"
     ]
    }
   ],
   "source": [
    "# convert it to a BeautifulSoup soup object\n",
    "soup = BeautifulSoup(response.content, 'html.parser')\n",
    "\n",
    "# we can find items in this soup easily\n",
    "title = soup.find(id= 'firstHeading')\n",
    "#print(title.string)\n",
    "\n",
    "#print(soup.prettify())\n",
    "\n",
    "# find all tables od the page\n",
    "# for table in soup.find_all('table'):\n",
    "#     ic(table.get('class'))\n",
    "\n",
    "# get the table we are interested in by name and class\n",
    "table = soup.find('table', class_= 'wikitable sortable plainrowheaders mw-datatable')\n",
    "\n",
    "# extract the information about the area numbers and name\n",
    "# put them in a list of dictionaries\n",
    "data = []\n",
    "for row in table.tbody.find_all('tr')[2 : -1]:\n",
    "    # the numbers\n",
    "    cell = row.find_all('td')\n",
    "    area_code = cell[0].get_text(strip= True)\n",
    "    # the names\n",
    "    header_cell = row.find('th')\n",
    "    community_name = header_cell.a.get_text(strip= True)\n",
    "    # append to the list as a dictionary\n",
    "    data.append({'area_code': area_code, 'community_name': community_name})\n",
    "#ic(data)\n",
    "    \n",
    "# create a pandas dataframe\n",
    "community_areas = pd.DataFrame(data)\n",
    "# convert the area_code to integers\n",
    "community_areas['area_code'] = community_areas['area_code'].astype('int')\n",
    "community_areas.info()\n",
    "# write the dataframe to csv\n",
    "community_areas.to_csv(r'..\\..\\csv\\community_areas_master.csv', index= False)\n"
   ]
  }
 ],
 "metadata": {
  "kernelspec": {
   "display_name": "venv",
   "language": "python",
   "name": "python3"
  },
  "language_info": {
   "codemirror_mode": {
    "name": "ipython",
    "version": 3
   },
   "file_extension": ".py",
   "mimetype": "text/x-python",
   "name": "python",
   "nbconvert_exporter": "python",
   "pygments_lexer": "ipython3",
   "version": "3.11.6"
  }
 },
 "nbformat": 4,
 "nbformat_minor": 2
}
