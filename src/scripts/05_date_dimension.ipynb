{
 "cells": [
  {
   "cell_type": "code",
   "execution_count": 1,
   "metadata": {},
   "outputs": [],
   "source": [
    "from datetime import datetime\n",
    "import pandas as pd"
   ]
  },
  {
   "cell_type": "code",
   "execution_count": 12,
   "metadata": {},
   "outputs": [],
   "source": [
    "start_date = datetime(2023, 1, 1)\n",
    "end_date = datetime(2028, 1, 1)\n",
    "\n",
    "date_range = pd.date_range(start_date, end_date)\n",
    "date_df = pd.DataFrame(date_range, columns=['Date'])\n",
    "\n",
    "# how to get year / month / day from the date\n",
    "date_df['year'] = date_df['Date'].dt.year\n",
    "date_df['month'] = date_df['Date'].dt.month\n",
    "date_df['day'] = date_df['Date'].dt.day\n",
    "date_df['day_of_week'] = date_df['Date'].dt.dayofweek + 1     # +1 to start from 1 \n",
    "date_df['is_week_end'] = date_df['day_of_week'].isin([6, 7])  # gives True for Saturday and Sunfday\n",
    "\n"
   ]
  },
  {
   "cell_type": "code",
   "execution_count": 15,
   "metadata": {},
   "outputs": [],
   "source": [
    "#date_df\n",
    "# index column would cause problems in AWS, so all the time skip\n",
    "# the writing of the index to the csv file\n",
    "date_df.to_csv(r'..\\..\\csv\\date_dimension.csv', index=False)"
   ]
  },
  {
   "cell_type": "code",
   "execution_count": null,
   "metadata": {},
   "outputs": [],
   "source": []
  }
 ],
 "metadata": {
  "kernelspec": {
   "display_name": "venv",
   "language": "python",
   "name": "python3"
  },
  "language_info": {
   "codemirror_mode": {
    "name": "ipython",
    "version": 3
   },
   "file_extension": ".py",
   "mimetype": "text/x-python",
   "name": "python",
   "nbconvert_exporter": "python",
   "pygments_lexer": "ipython3",
   "version": "3.11.6"
  }
 },
 "nbformat": 4,
 "nbformat_minor": 2
}
