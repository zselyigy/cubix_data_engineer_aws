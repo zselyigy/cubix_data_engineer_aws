{
 "cells": [
  {
   "cell_type": "code",
   "execution_count": 18,
   "metadata": {},
   "outputs": [
    {
     "name": "stdout",
     "output_type": "stream",
     "text": [
      "import done\n"
     ]
    }
   ],
   "source": [
    "from datetime import datetime\n",
    "from dateutil.relativedelta import relativedelta\n",
    "import json\n",
    "import os\n",
    "\n",
    "import pandas as pd\n",
    "import requests\n",
    "\n",
    "#print('import done')"
   ]
  },
  {
   "cell_type": "code",
   "execution_count": 8,
   "metadata": {},
   "outputs": [],
   "source": [
    "# get the headers of the taxi data\n",
    "url = 'https://data.cityofchicago.org/resource/wrvz-psew.json?trip_id=00000023035db9c57ce41840d9b350ada2041145'\n",
    "\n",
    "# the os.environ.get looks for the specified variable in the .env file of the root\n",
    "# folder of the project\n",
    "headers = {'X-App-Token': os.environ.get(\"CHICHAGO_API_TOKEN\")}\n",
    "\n",
    "response = requests.get(url, headers)\n",
    "data = response.json()"
   ]
  },
  {
   "cell_type": "code",
   "execution_count": null,
   "metadata": {},
   "outputs": [],
   "source": [
    "data"
   ]
  },
  {
   "cell_type": "code",
   "execution_count": 13,
   "metadata": {},
   "outputs": [],
   "source": [
    "# get the taxi data of 2023-08-05\n",
    "url = f'https://data.cityofchicago.org/resource/wrvz-psew.json?$where=trip_start_timestamp >= \"2023-08-05T00:00:00\" AND trip_start_timestamp <= \"2023-08-05T23:59:59\"&$limit=30000'\n",
    "\n",
    "# the os.environ.get looks for the specified variable in the .env file of the root\n",
    "# folder of the project\n",
    "headers = {'X-App-Token': os.environ.get(\"CHICHAGO_API_TOKEN\")}\n",
    "\n",
    "response = requests.get(url, headers)\n",
    "data = response.json()"
   ]
  },
  {
   "cell_type": "code",
   "execution_count": 14,
   "metadata": {},
   "outputs": [
    {
     "data": {
      "text/plain": [
       "16255"
      ]
     },
     "execution_count": 14,
     "metadata": {},
     "output_type": "execute_result"
    }
   ],
   "source": [
    "len(data)\n"
   ]
  },
  {
   "cell_type": "code",
   "execution_count": 21,
   "metadata": {},
   "outputs": [
    {
     "data": {
      "text/plain": [
       "'2023-11-10'"
      ]
     },
     "execution_count": 21,
     "metadata": {},
     "output_type": "execute_result"
    }
   ],
   "source": [
    "# current date\n",
    "current_datetime = datetime.now()\n",
    "# get the data two months before as a formatted string\n",
    "formatted_datetime = (current_datetime - relativedelta(months=2)).strftime('%Y-%m-%d')\n",
    "formatted_datetime"
   ]
  },
  {
   "cell_type": "code",
   "execution_count": 22,
   "metadata": {},
   "outputs": [],
   "source": [
    "# get the taxi data of the last full month (T-1 months') data\n",
    "\n",
    "url = f'https://data.cityofchicago.org/resource/wrvz-psew.json?$where=trip_start_timestamp >= \"{formatted_datetime}T00:00:00\" AND trip_start_timestamp <= \"{formatted_datetime}T23:59:59\"&$limit=30000'\n",
    "\n",
    "# the os.environ.get looks for the specified variable in the .env file of the root\n",
    "# folder of the project\n",
    "headers = {'X-App-Token': os.environ.get(\"CHICHAGO_API_TOKEN\")}\n",
    "\n",
    "response = requests.get(url, headers)\n",
    "data = response.json()"
   ]
  },
  {
   "cell_type": "code",
   "execution_count": null,
   "metadata": {},
   "outputs": [],
   "source": [
    "data"
   ]
  }
 ],
 "metadata": {
  "kernelspec": {
   "display_name": "venv",
   "language": "python",
   "name": "python3"
  },
  "language_info": {
   "codemirror_mode": {
    "name": "ipython",
    "version": 3
   },
   "file_extension": ".py",
   "mimetype": "text/x-python",
   "name": "python",
   "nbconvert_exporter": "python",
   "pygments_lexer": "ipython3",
   "version": "3.11.9"
  }
 },
 "nbformat": 4,
 "nbformat_minor": 2
}
