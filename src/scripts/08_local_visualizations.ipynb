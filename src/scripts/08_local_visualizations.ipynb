{
 "cells": [
  {
   "cell_type": "code",
   "execution_count": 8,
   "metadata": {},
   "outputs": [],
   "source": [
    "from io import StringIO\n",
    "import os\n",
    "\n",
    "import boto3\n",
    "import pandas as pd"
   ]
  },
  {
   "cell_type": "code",
   "execution_count": null,
   "metadata": {},
   "outputs": [],
   "source": [
    "aws_access_key_id = os.getenv('AWS_ACCESS_KEY')\n",
    "aws_secretkey_id = os.getenv('AWS_SECRET_KEY')"
   ]
  },
  {
   "cell_type": "code",
   "execution_count": 4,
   "metadata": {},
   "outputs": [],
   "source": [
    "s3 = boto3.client('s3', aws_access_key_id=aws_access_key_id, aws_secret_access_key=aws_secretkey_id)\n",
    "bucket = 'cubix-chicago-taxi-zsigy'"
   ]
  },
  {
   "cell_type": "code",
   "execution_count": 9,
   "metadata": {},
   "outputs": [],
   "source": [
    "def read_csv_from_s3(bucket: str, path: str, filename:str) -> pd.DataFrame:\n",
    "    \"\"\" Downloads a csv file from an s3 bucket.\n",
    "\n",
    "    Args:\n",
    "        bucket (str):\n",
    "            The bucket where the file is.\n",
    "        path (str):\n",
    "            The folder of the file.\n",
    "        filename (str):\n",
    "            The name of the file.\n",
    "        \n",
    "    Returns:\n",
    "        pd.DataFrame:\n",
    "            The DataFrame of the downloaded file.\n",
    "    \"\"\"\n",
    "\n",
    "    full_path = f'{path}{filename}'\n",
    "    object = s3.get_object(Bucket=bucket, Key=full_path)\n",
    "    object = object['Body'].read().decode('utf-8')\n",
    "    # with StringIO the Body of the object behaves as a file\n",
    "    df = pd.read_csv(StringIO(object))\n",
    "    \n",
    "    return df\n"
   ]
  },
  {
   "cell_type": "code",
   "execution_count": 16,
   "metadata": {},
   "outputs": [],
   "source": [
    "community_areas_path = 'transformed_data/community_areas/'\n",
    "company_path = 'transformed_data/company/'\n",
    "date_path = 'transformed_data/date/'\n",
    "payment_type_path = 'transformed_data/payment_types/'\n",
    "taxi_trips_path = 'transformed_data/taxi_trips/'\n",
    "weather_path = 'transformed_data/weather/'"
   ]
  },
  {
   "cell_type": "code",
   "execution_count": null,
   "metadata": {},
   "outputs": [],
   "source": [
    "community_areas = read_csv_from_s3(bucket= bucket, path= community_areas_path, filename= 'community_areas_master.csv')\n",
    "print(community_areas.head())\n",
    "company = read_csv_from_s3(bucket= bucket, path= company_path, filename='company_master.csv')\n",
    "print(company.head())\n",
    "date = read_csv_from_s3(bucket= bucket, path= date_path, filename= 'date_dimension.csv')\n",
    "print(date.head())\n",
    "payment_types = read_csv_from_s3(bucket= bucket, path= payment_type_path, filename= 'payment_type_master.csv')\n",
    "print(payment_types.head())"
   ]
  },
  {
   "cell_type": "code",
   "execution_count": 24,
   "metadata": {},
   "outputs": [],
   "source": [
    "trips_list = []\n",
    "weather_list = []"
   ]
  },
  {
   "cell_type": "code",
   "execution_count": 25,
   "metadata": {},
   "outputs": [
    {
     "name": "stdout",
     "output_type": "stream",
     "text": [
      "taxi_2023-11-18.csv has been added.\n",
      "taxi_2023-11-19.csv has been added.\n",
      "taxi_2023-11-20.csv has been added.\n",
      "taxi_2023-11-21.csv has been added.\n",
      "taxi_2023-11-22.csv has been added.\n",
      "taxi_2023-11-23.csv has been added.\n",
      "taxi_2023-11-24.csv has been added.\n",
      "taxi_2023-11-25.csv has been added.\n",
      "taxi_2023-11-26.csv has been added.\n",
      "taxi_2023-11-27.csv has been added.\n",
      "taxi_2023-11-28.csv has been added.\n",
      "taxi_2023-11-29.csv has been added.\n",
      "taxi_2023-11-30.csv has been added.\n",
      "taxi_2023-12-01.csv has been added.\n",
      "taxi_2023-12-02.csv has been added.\n",
      "taxi_2023-12-03.csv has been added.\n",
      "taxi_2023-12-04.csv has been added.\n",
      "taxi_2023-12-05.csv has been added.\n",
      "taxi_2023-12-06.csv has been added.\n"
     ]
    }
   ],
   "source": [
    "for file in s3.list_objects(Bucket = bucket, Prefix = taxi_trips_path)['Contents']:\n",
    "    taxi_trip_file_key = file['Key']\n",
    "    if taxi_trip_file_key.split('/')[-1].strip() != '':\n",
    "        if taxi_trip_file_key.split('.')[1] == 'csv':\n",
    "            filename = taxi_trip_file_key.split('/')[-1]\n",
    "            trip = read_csv_from_s3(bucket= bucket, path= taxi_trips_path, filename= filename)\n",
    "            trips_list.append(trip)\n",
    "            print(f'{filename} has been added.')\n"
   ]
  },
  {
   "cell_type": "code",
   "execution_count": 26,
   "metadata": {},
   "outputs": [],
   "source": [
    "trips = pd.concat(trips_list, ignore_index=True)"
   ]
  },
  {
   "cell_type": "code",
   "execution_count": 30,
   "metadata": {},
   "outputs": [
    {
     "data": {
      "text/plain": [
       "(278740, 20)"
      ]
     },
     "execution_count": 30,
     "metadata": {},
     "output_type": "execute_result"
    }
   ],
   "source": [
    "trips.shape"
   ]
  },
  {
   "cell_type": "code",
   "execution_count": 33,
   "metadata": {},
   "outputs": [
    {
     "name": "stdout",
     "output_type": "stream",
     "text": [
      "weather_2023-11-18.csv\n",
      "weather_2023-11-18.csv has been added.\n",
      "weather_2023-11-19.csv\n",
      "weather_2023-11-19.csv has been added.\n",
      "weather_2023-11-20.csv\n",
      "weather_2023-11-20.csv has been added.\n",
      "weather_2023-11-21.csv\n",
      "weather_2023-11-21.csv has been added.\n",
      "weather_2023-11-22.csv\n",
      "weather_2023-11-22.csv has been added.\n",
      "weather_2023-11-23.csv\n",
      "weather_2023-11-23.csv has been added.\n",
      "weather_2023-11-24.csv\n",
      "weather_2023-11-24.csv has been added.\n",
      "weather_2023-11-25.csv\n",
      "weather_2023-11-25.csv has been added.\n",
      "weather_2023-11-26.csv\n",
      "weather_2023-11-26.csv has been added.\n",
      "weather_2023-11-27.csv\n",
      "weather_2023-11-27.csv has been added.\n",
      "weather_2023-11-28.csv\n",
      "weather_2023-11-28.csv has been added.\n",
      "weather_2023-11-29.csv\n",
      "weather_2023-11-29.csv has been added.\n",
      "weather_2023-11-30.csv\n",
      "weather_2023-11-30.csv has been added.\n",
      "weather_2023-12-01.csv\n",
      "weather_2023-12-01.csv has been added.\n",
      "weather_2023-12-02.csv\n",
      "weather_2023-12-02.csv has been added.\n",
      "weather_2023-12-03.csv\n",
      "weather_2023-12-03.csv has been added.\n",
      "weather_2023-12-04.csv\n",
      "weather_2023-12-04.csv has been added.\n",
      "weather_2023-12-05.csv\n",
      "weather_2023-12-05.csv has been added.\n",
      "weather_2023-12-06.csv\n",
      "weather_2023-12-06.csv has been added.\n"
     ]
    }
   ],
   "source": [
    "for file in s3.list_objects(Bucket = bucket, Prefix = weather_path)['Contents']:\n",
    "    weather_file_key = file['Key']\n",
    "    if weather_file_key.split('/')[-1].strip() != '':\n",
    "        if weather_file_key.split('.')[1] == 'csv':       \n",
    "            filename = weather_file_key.split('/')[-1]\n",
    "            weather = read_csv_from_s3(bucket= bucket, path= weather_path, filename= filename)\n",
    "            weather_list.append(weather)\n",
    "            print(f'{filename} has been added.')            \n"
   ]
  },
  {
   "cell_type": "code",
   "execution_count": 35,
   "metadata": {},
   "outputs": [],
   "source": [
    "weather = pd.concat(weather_list, ignore_index=True)"
   ]
  },
  {
   "cell_type": "code",
   "execution_count": 37,
   "metadata": {},
   "outputs": [
    {
     "name": "stdout",
     "output_type": "stream",
     "text": [
      "<class 'pandas.core.frame.DataFrame'>\n",
      "RangeIndex: 456 entries, 0 to 455\n",
      "Data columns (total 5 columns):\n",
      " #   Column         Non-Null Count  Dtype  \n",
      "---  ------         --------------  -----  \n",
      " 0   datetime       456 non-null    object \n",
      " 1   temperature    456 non-null    float64\n",
      " 2   wind_speed     456 non-null    float64\n",
      " 3   rain           456 non-null    float64\n",
      " 4   precipitation  456 non-null    float64\n",
      "dtypes: float64(4), object(1)\n",
      "memory usage: 17.9+ KB\n"
     ]
    }
   ],
   "source": [
    "weather.info()"
   ]
  }
 ],
 "metadata": {
  "kernelspec": {
   "display_name": "venv",
   "language": "python",
   "name": "python3"
  },
  "language_info": {
   "codemirror_mode": {
    "name": "ipython",
    "version": 3
   },
   "file_extension": ".py",
   "mimetype": "text/x-python",
   "name": "python",
   "nbconvert_exporter": "python",
   "pygments_lexer": "ipython3",
   "version": "3.11.6"
  }
 },
 "nbformat": 4,
 "nbformat_minor": 2
}
