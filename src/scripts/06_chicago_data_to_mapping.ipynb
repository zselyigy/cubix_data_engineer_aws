{
 "cells": [
  {
   "cell_type": "code",
   "execution_count": 2,
   "metadata": {},
   "outputs": [],
   "source": [
    "# some exploratory data analysis\n",
    "from datetime import datetime\n",
    "from dateutil.relativedelta import relativedelta\n",
    "import os\n",
    "\n",
    "import pandas as pd\n",
    "import requests\n"
   ]
  },
  {
   "cell_type": "code",
   "execution_count": 9,
   "metadata": {},
   "outputs": [
    {
     "data": {
      "text/plain": [
       "requests.models.Response"
      ]
     },
     "execution_count": 9,
     "metadata": {},
     "output_type": "execute_result"
    }
   ],
   "source": [
    "# get the taxi data of the last full month (T-1 months') data\n",
    "current_datetime = datetime.now()    # current date\n",
    "# get the data two months before as a formatted string\n",
    "formatted_datetime = (current_datetime - relativedelta(months=2)).strftime('%Y-%m-%d')\n",
    "\n",
    "url = f'https://data.cityofchicago.org/resource/wrvz-psew.json?$where=trip_start_timestamp >= \"{formatted_datetime}T00:00:00\" AND trip_start_timestamp <= \"{formatted_datetime}T23:59:59\"&$limit=30000'\n",
    "\n",
    "# the os.environ.get looks for the specified variable in the .env file of the root\n",
    "# folder of the project\n",
    "headers = {'X-App-Token': os.environ.get(\"CHICHAGO_API_TOKEN\")}\n",
    "\n",
    "response = requests.get(url, headers)\n",
    "\n",
    "data = response.json()\n",
    "\n",
    "#type(response)    # we can check the type: \"requests.models.Response\""
   ]
  },
  {
   "cell_type": "code",
   "execution_count": 6,
   "metadata": {},
   "outputs": [
    {
     "data": {
      "text/plain": [
       "requests.models.Response"
      ]
     },
     "execution_count": 6,
     "metadata": {},
     "output_type": "execute_result"
    }
   ],
   "source": []
  }
 ],
 "metadata": {
  "kernelspec": {
   "display_name": "venv",
   "language": "python",
   "name": "python3"
  },
  "language_info": {
   "codemirror_mode": {
    "name": "ipython",
    "version": 3
   },
   "file_extension": ".py",
   "mimetype": "text/x-python",
   "name": "python",
   "nbconvert_exporter": "python",
   "pygments_lexer": "ipython3",
   "version": "3.11.6"
  }
 },
 "nbformat": 4,
 "nbformat_minor": 2
}
