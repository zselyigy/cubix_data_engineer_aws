{
 "cells": [
  {
   "cell_type": "code",
   "execution_count": 8,
   "metadata": {},
   "outputs": [],
   "source": [
    "from datetime import datetime\n",
    "from dateutil.relativedelta import relativedelta\n",
    "\n",
    "import pandas as pd\n",
    "import requests\n"
   ]
  },
  {
   "cell_type": "code",
   "execution_count": null,
   "metadata": {},
   "outputs": [],
   "source": [
    "# # how to get weather data from the open-meteo.com site?\n",
    "# url = \"https://archive-api.open-meteo.com/v1/era5?latitude=52.52&longitude=13.41&start_date=2021-01-01&end_date=2021-12-31&hourly=temperature_2m\"\n",
    "# response = requests.get(url)\n",
    "# data = response.json()\n",
    "# #data"
   ]
  },
  {
   "cell_type": "code",
   "execution_count": 14,
   "metadata": {},
   "outputs": [],
   "source": [
    "# Extract\n",
    "# get weather data from the open-meteo.com site for a given day\n",
    "url = 'https://archive-api.open-meteo.com/v1/era5'\n",
    "# current date\n",
    "current_datetime = datetime.now()\n",
    "# get the data two months before as a formatted string\n",
    "formatted_datetime = (current_datetime - relativedelta(months=2)).strftime('%Y-%m-%d')\n",
    "params = {\n",
    "    'latitude': 41.85,\n",
    "    'longitude': -87.65,\n",
    "    'start_date': formatted_datetime,\n",
    "    'end_date': formatted_datetime,\n",
    "    'hourly': 'temperature_2m,wind_speed_10m,rain,precipitation'\n",
    "    }\n",
    "\n",
    "response = requests.get(url, params=params)\n",
    "weather_data = response.json()\n"
   ]
  },
  {
   "cell_type": "code",
   "execution_count": null,
   "metadata": {},
   "outputs": [],
   "source": [
    "# TRANSFORM\n",
    "# transform the JSON string to a pd dataframe\n",
    "weather_data_filtered = {\n",
    "    'datetime': weather_data['hourly']['time'],\n",
    "    'temperature': weather_data['hourly']['temperature_2m'],\n",
    "    'wind_speed': weather_data['hourly']['wind_speed_10m'],\n",
    "    'rain': weather_data['hourly']['rain'],\n",
    "    'precipitation': weather_data['hourly']['precipitation']\n",
    "    }\n",
    "#weather_data_filtered"
   ]
  },
  {
   "cell_type": "code",
   "execution_count": 24,
   "metadata": {},
   "outputs": [],
   "source": [
    "weather_df = pd.DataFrame(weather_data_filtered)\n",
    "weather_df['datetime'] = pd.to_datetime(weather_df['datetime'])\n",
    "#weather_df.info()\n",
    "#weather_df.head()\n",
    "# write it to a csv file\n",
    "weather_df.to_csv('weather_data_date.csv', index=False)"
   ]
  }
 ],
 "metadata": {
  "kernelspec": {
   "display_name": "venv",
   "language": "python",
   "name": "python3"
  },
  "language_info": {
   "codemirror_mode": {
    "name": "ipython",
    "version": 3
   },
   "file_extension": ".py",
   "mimetype": "text/x-python",
   "name": "python",
   "nbconvert_exporter": "python",
   "pygments_lexer": "ipython3",
   "version": "3.11.6"
  }
 },
 "nbformat": 4,
 "nbformat_minor": 2
}
